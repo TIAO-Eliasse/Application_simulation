{
 "cells": [
  {
   "cell_type": "code",
   "execution_count": 2,
   "metadata": {},
   "outputs": [],
   "source": [
    "import pandas as pd\n",
    "import numpy as np\n",
    "import statsmodels.api as sm\n",
    "#from statsmodels.tsa.api import tsa\n",
    "\n",
    "# Charger les données\n",
    "file_path = \"C://Users//elias//Desktop//ISE//ISE3//ISE32025//Equations simultannées et modèles à correction d'erreur//Projet_simultanné//Base_de_données_projet//base_final1.xlsx\"\n",
    "base = pd.read_excel(file_path)\n",
    "\n"
   ]
  },
  {
   "cell_type": "code",
   "execution_count": 5,
   "metadata": {},
   "outputs": [
    {
     "ename": "KeyError",
     "evalue": "'DEPT'",
     "output_type": "error",
     "traceback": [
      "\u001b[1;31m---------------------------------------------------------------------------\u001b[0m",
      "\u001b[1;31mKeyError\u001b[0m                                  Traceback (most recent call last)",
      "File \u001b[1;32mc:\\Users\\elias\\anaconda3\\Lib\\site-packages\\pandas\\core\\indexes\\base.py:3805\u001b[0m, in \u001b[0;36mIndex.get_loc\u001b[1;34m(self, key)\u001b[0m\n\u001b[0;32m   3804\u001b[0m \u001b[38;5;28;01mtry\u001b[39;00m:\n\u001b[1;32m-> 3805\u001b[0m     \u001b[38;5;28;01mreturn\u001b[39;00m \u001b[38;5;28mself\u001b[39m\u001b[38;5;241m.\u001b[39m_engine\u001b[38;5;241m.\u001b[39mget_loc(casted_key)\n\u001b[0;32m   3806\u001b[0m \u001b[38;5;28;01mexcept\u001b[39;00m \u001b[38;5;167;01mKeyError\u001b[39;00m \u001b[38;5;28;01mas\u001b[39;00m err:\n",
      "File \u001b[1;32mindex.pyx:167\u001b[0m, in \u001b[0;36mpandas._libs.index.IndexEngine.get_loc\u001b[1;34m()\u001b[0m\n",
      "File \u001b[1;32mindex.pyx:196\u001b[0m, in \u001b[0;36mpandas._libs.index.IndexEngine.get_loc\u001b[1;34m()\u001b[0m\n",
      "File \u001b[1;32mpandas\\\\_libs\\\\hashtable_class_helper.pxi:7081\u001b[0m, in \u001b[0;36mpandas._libs.hashtable.PyObjectHashTable.get_item\u001b[1;34m()\u001b[0m\n",
      "File \u001b[1;32mpandas\\\\_libs\\\\hashtable_class_helper.pxi:7089\u001b[0m, in \u001b[0;36mpandas._libs.hashtable.PyObjectHashTable.get_item\u001b[1;34m()\u001b[0m\n",
      "\u001b[1;31mKeyError\u001b[0m: 'DEPT'",
      "\nThe above exception was the direct cause of the following exception:\n",
      "\u001b[1;31mKeyError\u001b[0m                                  Traceback (most recent call last)",
      "Cell \u001b[1;32mIn[5], line 2\u001b[0m\n\u001b[0;32m      1\u001b[0m \u001b[38;5;66;03m# Définir les séries temporelles\u001b[39;00m\n\u001b[1;32m----> 2\u001b[0m Depense \u001b[38;5;241m=\u001b[39m pd\u001b[38;5;241m.\u001b[39mSeries(base[\u001b[38;5;124m'\u001b[39m\u001b[38;5;124mDEPT\u001b[39m\u001b[38;5;124m'\u001b[39m]\u001b[38;5;241m.\u001b[39mvalues, index\u001b[38;5;241m=\u001b[39mpd\u001b[38;5;241m.\u001b[39mdate_range(start\u001b[38;5;241m=\u001b[39m\u001b[38;5;124m'\u001b[39m\u001b[38;5;124m2005\u001b[39m\u001b[38;5;124m'\u001b[39m, periods\u001b[38;5;241m=\u001b[39m\u001b[38;5;28mlen\u001b[39m(base), freq\u001b[38;5;241m=\u001b[39m\u001b[38;5;124m'\u001b[39m\u001b[38;5;124mA\u001b[39m\u001b[38;5;124m'\u001b[39m))\n\u001b[0;32m      3\u001b[0m Investissement \u001b[38;5;241m=\u001b[39m pd\u001b[38;5;241m.\u001b[39mSeries(base[\u001b[38;5;124m'\u001b[39m\u001b[38;5;124mTINV(\u001b[39m\u001b[38;5;124m%\u001b[39m\u001b[38;5;124m)\u001b[39m\u001b[38;5;124m'\u001b[39m]\u001b[38;5;241m.\u001b[39mvalues, index\u001b[38;5;241m=\u001b[39mpd\u001b[38;5;241m.\u001b[39mdate_range(start\u001b[38;5;241m=\u001b[39m\u001b[38;5;124m'\u001b[39m\u001b[38;5;124m2005\u001b[39m\u001b[38;5;124m'\u001b[39m, periods\u001b[38;5;241m=\u001b[39m\u001b[38;5;28mlen\u001b[39m(base), freq\u001b[38;5;241m=\u001b[39m\u001b[38;5;124m'\u001b[39m\u001b[38;5;124mA\u001b[39m\u001b[38;5;124m'\u001b[39m))\n\u001b[0;32m      4\u001b[0m Taux_de_change \u001b[38;5;241m=\u001b[39m pd\u001b[38;5;241m.\u001b[39mSeries(base[\u001b[38;5;124m'\u001b[39m\u001b[38;5;124mTchange\u001b[39m\u001b[38;5;124m'\u001b[39m]\u001b[38;5;241m.\u001b[39mvalues, index\u001b[38;5;241m=\u001b[39mpd\u001b[38;5;241m.\u001b[39mdate_range(start\u001b[38;5;241m=\u001b[39m\u001b[38;5;124m'\u001b[39m\u001b[38;5;124m2005\u001b[39m\u001b[38;5;124m'\u001b[39m, periods\u001b[38;5;241m=\u001b[39m\u001b[38;5;28mlen\u001b[39m(base), freq\u001b[38;5;241m=\u001b[39m\u001b[38;5;124m'\u001b[39m\u001b[38;5;124mA\u001b[39m\u001b[38;5;124m'\u001b[39m))\n",
      "File \u001b[1;32mc:\\Users\\elias\\anaconda3\\Lib\\site-packages\\pandas\\core\\frame.py:4102\u001b[0m, in \u001b[0;36mDataFrame.__getitem__\u001b[1;34m(self, key)\u001b[0m\n\u001b[0;32m   4100\u001b[0m \u001b[38;5;28;01mif\u001b[39;00m \u001b[38;5;28mself\u001b[39m\u001b[38;5;241m.\u001b[39mcolumns\u001b[38;5;241m.\u001b[39mnlevels \u001b[38;5;241m>\u001b[39m \u001b[38;5;241m1\u001b[39m:\n\u001b[0;32m   4101\u001b[0m     \u001b[38;5;28;01mreturn\u001b[39;00m \u001b[38;5;28mself\u001b[39m\u001b[38;5;241m.\u001b[39m_getitem_multilevel(key)\n\u001b[1;32m-> 4102\u001b[0m indexer \u001b[38;5;241m=\u001b[39m \u001b[38;5;28mself\u001b[39m\u001b[38;5;241m.\u001b[39mcolumns\u001b[38;5;241m.\u001b[39mget_loc(key)\n\u001b[0;32m   4103\u001b[0m \u001b[38;5;28;01mif\u001b[39;00m is_integer(indexer):\n\u001b[0;32m   4104\u001b[0m     indexer \u001b[38;5;241m=\u001b[39m [indexer]\n",
      "File \u001b[1;32mc:\\Users\\elias\\anaconda3\\Lib\\site-packages\\pandas\\core\\indexes\\base.py:3812\u001b[0m, in \u001b[0;36mIndex.get_loc\u001b[1;34m(self, key)\u001b[0m\n\u001b[0;32m   3807\u001b[0m     \u001b[38;5;28;01mif\u001b[39;00m \u001b[38;5;28misinstance\u001b[39m(casted_key, \u001b[38;5;28mslice\u001b[39m) \u001b[38;5;129;01mor\u001b[39;00m (\n\u001b[0;32m   3808\u001b[0m         \u001b[38;5;28misinstance\u001b[39m(casted_key, abc\u001b[38;5;241m.\u001b[39mIterable)\n\u001b[0;32m   3809\u001b[0m         \u001b[38;5;129;01mand\u001b[39;00m \u001b[38;5;28many\u001b[39m(\u001b[38;5;28misinstance\u001b[39m(x, \u001b[38;5;28mslice\u001b[39m) \u001b[38;5;28;01mfor\u001b[39;00m x \u001b[38;5;129;01min\u001b[39;00m casted_key)\n\u001b[0;32m   3810\u001b[0m     ):\n\u001b[0;32m   3811\u001b[0m         \u001b[38;5;28;01mraise\u001b[39;00m InvalidIndexError(key)\n\u001b[1;32m-> 3812\u001b[0m     \u001b[38;5;28;01mraise\u001b[39;00m \u001b[38;5;167;01mKeyError\u001b[39;00m(key) \u001b[38;5;28;01mfrom\u001b[39;00m \u001b[38;5;21;01merr\u001b[39;00m\n\u001b[0;32m   3813\u001b[0m \u001b[38;5;28;01mexcept\u001b[39;00m \u001b[38;5;167;01mTypeError\u001b[39;00m:\n\u001b[0;32m   3814\u001b[0m     \u001b[38;5;66;03m# If we have a listlike key, _check_indexing_error will raise\u001b[39;00m\n\u001b[0;32m   3815\u001b[0m     \u001b[38;5;66;03m#  InvalidIndexError. Otherwise we fall through and re-raise\u001b[39;00m\n\u001b[0;32m   3816\u001b[0m     \u001b[38;5;66;03m#  the TypeError.\u001b[39;00m\n\u001b[0;32m   3817\u001b[0m     \u001b[38;5;28mself\u001b[39m\u001b[38;5;241m.\u001b[39m_check_indexing_error(key)\n",
      "\u001b[1;31mKeyError\u001b[0m: 'DEPT'"
     ]
    }
   ],
   "source": [
    "# Définir les séries temporelles\n",
    "Depense = pd.Series(base[' DEPT'].values, index=pd.date_range(start='2005', periods=len(base), freq='A'))\n",
    "Investissement = pd.Series(base['TINV(%)'].values, index=pd.date_range(start='2005', periods=len(base), freq='A'))\n",
    "Taux_de_change = pd.Series(base['Tchange'].values, index=pd.date_range(start='2005', periods=len(base), freq='A'))\n",
    "Recettes_totales = pd.Series(base['RECT'].values, index=pd.date_range(start='2005', periods=len(base), freq='A'))\n",
    "Taux_de_chomage = pd.Series(base['CHO'].values, index=pd.date_range(start='2005', periods=len(base), freq='A'))\n",
    "Inflation = pd.Series(base['INF'].values, index=pd.date_range(start='2005', periods=len(base), freq='A'))\n",
    "Indice_prix = pd.Series(base['IPC'].values, index=pd.date_range(start='2005', periods=len(base), freq='A'))\n",
    "Epargne = pd.Series(base['EPG'].values, index=pd.date_range(start='2005', periods=len(base), freq='A'))\n",
    "Balance_exterieure = pd.Series(base['BLE'].values, index=pd.date_range(start='2005', periods=len(base), freq='A'))\n",
    "Prix_petrole = pd.Series(base['PRP'].values, index=pd.date_range(start='2005', periods=len(base), freq='A'))\n",
    "Produit_Interieur = pd.Series(base['TPIB'].values, index=pd.date_range(start='2005', periods=len(base), freq='A'))\n",
    "Exportation = pd.Series(base['TEXP(%)'].values, index=pd.date_range(start='2005', periods=len(base), freq='A'))\n",
    "Importation = pd.Series(base['TIM(%)'].values, index=pd.date_range(start='2005', periods=len(base), freq='A'))\n",
    "Masse_monetaire = pd.Series(base['MM(%)'].values, index=pd.date_range(start='2005', periods=len(base), freq='A'))\n",
    "Taux_population_active = pd.Series(base['TPOA(%)'].values, index=pd.date_range(start='2005', periods=len(base), freq='A'))\n",
    "CDI = pd.Series(base['TCDI(%)'].values, index=pd.date_range(start='2005', periods=len(base), freq='A'))\n",
    "Taxe = pd.Series(base['Ttaxe(%)'].values, index=pd.date_range(start='2005', periods=len(base), freq='A'))\n",
    "\n",
    "# Renommer les variables\n",
    "TDEPT = Depense\n",
    "TINV = Investissement\n",
    "TCHE = Taux_de_change\n",
    "TRECT = Recettes_totales\n",
    "TCHO = Taux_de_chomage\n",
    "INF = Inflation\n",
    "IPC = Indice_prix\n",
    "EPG = Epargne\n",
    "BLE = Balance_exterieure\n",
    "PRP = Prix_petrole\n",
    "TPIB = Produit_Interieur\n",
    "TEXP = Exportation\n",
    "TIMP = Importation\n",
    "MM = Masse_monetaire\n",
    "TPOA = Taux_population_active\n",
    "TCDI = CDI\n",
    "TTaxe = Taxe\n",
    "\n",
    "# Créer un DataFrame avec toutes les variables\n",
    "data1 = pd.DataFrame({' DEPT': TDEPT, 'TINV': TINV, 'TCHE': TCHE, 'RECT': TRECT, 'TCHO': TCHO, \n",
    "    'INF': INF, 'PRP': PRP, 'TPIB': TPIB, 'TEXP': TEXP, 'TIMP': TIMP, \n",
    "    'MM': MM, 'TPOA': TPOA, 'TCDI': TCDI, 'TTaxe': TTaxe\n",
    "})\n"
   ]
  },
  {
   "cell_type": "code",
   "execution_count": null,
   "metadata": {},
   "outputs": [],
   "source": []
  }
 ],
 "metadata": {
  "kernelspec": {
   "display_name": "base",
   "language": "python",
   "name": "python3"
  },
  "language_info": {
   "codemirror_mode": {
    "name": "ipython",
    "version": 3
   },
   "file_extension": ".py",
   "mimetype": "text/x-python",
   "name": "python",
   "nbconvert_exporter": "python",
   "pygments_lexer": "ipython3",
   "version": "3.11.7"
  }
 },
 "nbformat": 4,
 "nbformat_minor": 2
}
